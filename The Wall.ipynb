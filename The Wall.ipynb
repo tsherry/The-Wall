{
 "metadata": {
  "name": ""
 },
 "nbformat": 3,
 "nbformat_minor": 0,
 "worksheets": [
  {
   "cells": [
    {
     "cell_type": "code",
     "collapsed": false,
     "input": [
      "from IPython.display import Image\n",
      "url = 'http://awoiaf.westeros.org/images/6/6b/The_wall_and_Castle_Black_by_Feliche.jpg'\n",
      "Image(url=url, width=400)"
     ],
     "language": "python",
     "metadata": {},
     "outputs": [
      {
       "html": [
        "<img src=\"http://awoiaf.westeros.org/images/6/6b/The_wall_and_Castle_Black_by_Feliche.jpg\" width=\"400\"/>"
       ],
       "metadata": {},
       "output_type": "pyout",
       "prompt_number": 48,
       "text": [
        "<IPython.core.display.Image at 0xabdfa58>"
       ]
      }
     ],
     "prompt_number": 48
    },
    {
     "cell_type": "code",
     "collapsed": false,
     "input": [
      "import numpy as np\n",
      "import matplotlib.pyplot as plt\n",
      "%matplotlib inline"
     ],
     "language": "python",
     "metadata": {},
     "outputs": [],
     "prompt_number": 49
    },
    {
     "cell_type": "code",
     "collapsed": false,
     "input": [
      "H_0 = 700 * 0.3048 #m\n",
      "W_0 = 12 #m\n",
      "Length = 300 * 1609.34 #m\n",
      "rho = 917 #kg/m^3 #Density of ice\n",
      "G = 3.8 * 10**9 #Pa #Shear Modulus of ice\n",
      "eta1 = 10**8 #Pa*s #Viscosity of ice for low strain rates\n",
      "eta2 = 1.5*10**13 #Pa*s #Viscosity of ice for high strain rates\n",
      "\n",
      "\n",
      "Maxwell1 = eta1 / G\n",
      "Maxwell2 = eta2 / G\n",
      "print 'The height of The Wall is',H_0,'m'\n",
      "print 'The Wall stretches for a distance of',Length,'m. For the purposes of this exercise we will consider the deformation of a 1 m slice of the total length.'\n",
      "print 'We estimate that The Wall is approximately',W_0,'m thick, roughly the space occupied by \"12 mounted knights\", although sources state that it is \"wider at the base\"'\n",
      "print 'The Maxwell Time for ice under high strain rates is',Maxwell2,' seconds.'\n",
      "print 'The Maxwell Time for ice under low strain rates is',Maxwell1,' seconds.'\n"
     ],
     "language": "python",
     "metadata": {},
     "outputs": [
      {
       "output_type": "stream",
       "stream": "stdout",
       "text": [
        "The height of The Wall is 213.36 m\n",
        "The Wall stretches for a distance of 482802.0 m. For the purposes of this exercise we will consider the deformation of a 1 m slice of the total length.\n",
        "We estimate that The Wall is approximately 12 m thick, roughly the space occupied by \"12 mounted knights\", although sources state that it is \"wider at the base\"\n",
        "The Maxwell Time for ice under high strain rates is 3947.36842105  seconds.\n",
        "The Maxwell Time for ice under low strain rates is 0.0263157894737  seconds.\n"
       ]
      }
     ],
     "prompt_number": 50
    },
    {
     "cell_type": "code",
     "collapsed": false,
     "input": [
      "#We must now calculate the stress that the weight of the wall imparts on itself.\n",
      "grv = 9.81 #m/s^2\n",
      "t_year = int(np.pi * 10**7)\n",
      "t_month = t_year / 12\n",
      "t_day = t_year / 365\n",
      "t_test = 100 #seconds\n",
      "print t_year\n",
      "V_0 = H_0 * W_0 * 1 #m^3\n",
      "\n",
      "H = H_0\n",
      "W = W_0\n",
      "V = V_0\n",
      "A = W * 1#m2\n",
      "M = rho * V #Mass of 1 m segment of the wall\n",
      "print 'The mass of 1 m of wall is',M\n",
      "F = M * grv\n",
      "Sigma_0 = F / A\n",
      "print 'The initial stress at the base of The Wall is', Sigma_0,'Pa'\n",
      "print A\n",
      "print 'The number of seconds in one month is:',t_month\n",
      "print 'The number of seconds in one day is:',t_day\n"
     ],
     "language": "python",
     "metadata": {},
     "outputs": [
      {
       "output_type": "stream",
       "stream": "stdout",
       "text": [
        "31415926\n",
        "The mass of 1 m of wall is 2347813.44\n",
        "The initial stress at the base of The Wall is 1919337.4872 Pa\n",
        "12\n",
        "The number of seconds in one month is: 2617993\n",
        "The number of seconds in one day is: 86071\n"
       ]
      }
     ],
     "prompt_number": 55
    },
    {
     "cell_type": "code",
     "collapsed": false,
     "input": [
      "print 'Ice is a \"Maxwell Solid\", meaning that it deforms under both elastic (recoverable) and plastic (unrecoverable) means.'\n",
      "#print 'First we test the code to',t_test,'seconds'\n",
      "wall_dims = []\n",
      "Epsilon_dims = []\n",
      "Sigma_dims = []\n",
      "Sigma = Sigma_0\n",
      "Elastic = Sigma_0 / G\n",
      "Plastic_dims = []\n",
      "for i in xrange(t_month):\n",
      "    Plastic = (i * (Sigma / eta2))\n",
      "    Epsilon = Elastic + Plastic\n",
      "    L1 = (Epsilon + 1) * W\n",
      "    W = L1\n",
      "    Sigma = F/ W\n",
      "    Sigma_dims.append(Sigma)\n",
      "    wall_dims.append(W)\n",
      "    Epsilon_dims.append(Epsilon)\n",
      "    Plastic_dims.append(Plastic)\n",
      "#print Epsilon_dims\n",
      "#print Elastic\n",
      "#print Plastic_dims\n",
      "plt.plot(xrange(t_month),Epsilon_dims)\n",
      "plt.show()"
     ],
     "language": "python",
     "metadata": {},
     "outputs": [
      {
       "output_type": "stream",
       "stream": "stdout",
       "text": [
        "Ice is a \"Maxwell Solid\", meaning that it deforms under both elastic (recoverable) and plastic (unrecoverable) means.\n"
       ]
      },
      {
       "metadata": {},
       "output_type": "display_data",
       "png": "[encoded data removed]",
       "text": [
        "<matplotlib.figure.Figure at 0x8b7dd30>"
       ]
      }
     ],
     "prompt_number": 56
    },
    {
     "cell_type": "code",
     "collapsed": false,
     "input": [],
     "language": "python",
     "metadata": {},
     "outputs": []
    }
   ],
   "metadata": {}
  }
 ]
}